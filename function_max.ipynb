{
 "cells": [
  {
   "cell_type": "code",
   "execution_count": 1,
   "metadata": {},
   "outputs": [],
   "source": [
    "A = [-2,1,-3,7,-2,2,1,-5,4]\n",
    "B = [-2,1,-3,4,-1,2,1,-5,4]\n",
    "C = [2,1,3,4,1,2,1,5,4]\n",
    "D = [1,0,0,0]\n",
    "E = [5, -5, 5, -5]\n",
    "F = [0, 0, 0, 0]\n",
    "G = []\n",
    "W = [2,1,3,4,1,2,1,5,4.5]\n",
    "Z = ['int',4, '1']"
   ]
  },
  {
   "cell_type": "code",
   "execution_count": 2,
   "metadata": {},
   "outputs": [],
   "source": [
    "def findMaxSubArray(array):\n",
    "    \"\"\"\n",
    "    Функция на вход принимает массив array ненулевой длины и\n",
    "    возвращающей непрерывный подмассив массива array ненулевой длины,\n",
    "    который имеет наибольшую сумму среди всех непрерывных\n",
    "    подмассивов массива array.\n",
    "    Пример:\n",
    "    На вход подается массив [-2,1,-3,4,-1,2,1,-5,4]\n",
    "    На выходе функции выводится массив [4,-1,2,1], имеющий максимальную\n",
    "    сумму среди всех подмассивов равную 6.\n",
    "    \"\"\"\n",
    "    # Если вводится пустой массив, то выводим ошибку\n",
    "    if len(array) == 0:\n",
    "        print ('Ошибка! Нельзя вводить пустой массив')     \n",
    "      \n",
    "    \n",
    "    # Если вводится не целочисленный массив, то выводим ошибку\n",
    "    else:\n",
    "        if all(isinstance(elem, int) for elem in array) == False:\n",
    "            print (\"Ошибка! Массив не является целочисленным, проверьте элементы массива\")\n",
    "            \n",
    "    # Введем вспомогательный массив d_array такой же длины, что и массив array, и заполним его нулями.\n",
    "    # Вспомогательный массив будем заполнять по следующей логике:\n",
    "    # - записываем первый элемент исходного массива как первый элемент вспомогательного массива\n",
    "    # - начиная со второго элемента, записываем во вспомогательный массив накопленную сумму элементов исходного массива \n",
    "    # - если i-ый элемент исходного массива больше накопленной суммы, расчет накопленной суммы начинается заново с i-го элемента\n",
    "            \n",
    "        else:\n",
    "            d_array = [0 for i in range(len(array))]\n",
    "            d_array[0] = array[0] # первый элемент вспомогательного массива равен первому элементу исходного массива\n",
    "            for i in range(1,len(array)): # далее, начиная со второго элемента, сравниваем сумму i-го элемента исходного массива\n",
    "                if d_array[i-1]+array[i] > array[i]: # и элемента i-1 вспомогательного массива с i элементом исходного массива, \n",
    "                     d_array[i] = d_array[i-1]+array[i] # находим максимум и записываем число в i ячейку вспомогательного массива\n",
    "                else: \n",
    "                    d_array[i] = array[i] \n",
    "            \n",
    "            # print(d_array)\n",
    "    \n",
    "    \n",
    "    # max_d_array - наибольшая сумма среди сумм всех непрерывных подмассивов массива array\n",
    "            max_d_array = d_array[0]\n",
    "            for number in d_array:\n",
    "                if number>max_d_array:\n",
    "                    max_d_array = number\n",
    "            # print(max_d_array) \n",
    "        \n",
    "        # Найдем индекс этой суммы во вспомогательном массиве\n",
    "            if d_array.index(max_d_array) == 0: # Чтобы функция не ломалась, когда первое число является максимальной суммой \n",
    "                result = [array[0]]\n",
    "                # print(d_array.index(max_d_array))    \n",
    "                \n",
    "            else:  \n",
    "        # Если максимальная сумма не является первым числом в массиве, то для того, чтобы найти первый элемент подмассива, \n",
    "        # из которого состоит сумма, нужно пройтись по циклу в обратном порядке и найти число, \n",
    "        # которое находится на той же позиции 'к' во вспомогательном и исходном массиве, \n",
    "        # т.к. с этой позиции начался расчет накопленной суммы\n",
    "                for k in range(d_array.index(max_d_array, 0)):\n",
    "                    if d_array[k] == array[k]:\n",
    "                        x = k\n",
    "                    else:\n",
    "                        pass\n",
    "            # Подмассив, который мы ищем, состоит из элементов исходного массива, находящихся\n",
    "            # на позициях от x до позиции максимальной суммы во вспомогательном массиве        \n",
    "                result = [array[n] for n in range(x, d_array.index(max_d_array)+1)]\n",
    "            return result\n",
    "        "
   ]
  },
  {
   "cell_type": "code",
   "execution_count": 3,
   "metadata": {},
   "outputs": [
    {
     "name": "stdout",
     "output_type": "stream",
     "text": [
      "Ошибка! Массив не является целочисленным, проверьте элементы массива\n",
      "None\n"
     ]
    }
   ],
   "source": [
    "print(findMaxSubArray(W))"
   ]
  },
  {
   "cell_type": "code",
   "execution_count": 4,
   "metadata": {},
   "outputs": [
    {
     "name": "stdout",
     "output_type": "stream",
     "text": [
      "Ошибка! Массив не является целочисленным, проверьте элементы массива\n",
      "None\n"
     ]
    }
   ],
   "source": [
    "print(findMaxSubArray(Z))"
   ]
  },
  {
   "cell_type": "code",
   "execution_count": 5,
   "metadata": {},
   "outputs": [
    {
     "name": "stdout",
     "output_type": "stream",
     "text": [
      "[7, -2, 2, 1]\n"
     ]
    }
   ],
   "source": [
    "print(findMaxSubArray(A))"
   ]
  },
  {
   "cell_type": "code",
   "execution_count": 6,
   "metadata": {},
   "outputs": [
    {
     "name": "stdout",
     "output_type": "stream",
     "text": [
      "Ошибка! Нельзя вводить пустой массив\n",
      "None\n"
     ]
    }
   ],
   "source": [
    "print(findMaxSubArray(G))"
   ]
  },
  {
   "cell_type": "code",
   "execution_count": 7,
   "metadata": {},
   "outputs": [
    {
     "name": "stdout",
     "output_type": "stream",
     "text": [
      "[4, -1, 2, 1]\n"
     ]
    }
   ],
   "source": [
    "print(findMaxSubArray(B))"
   ]
  },
  {
   "cell_type": "code",
   "execution_count": 8,
   "metadata": {},
   "outputs": [
    {
     "name": "stdout",
     "output_type": "stream",
     "text": [
      "[5]\n"
     ]
    }
   ],
   "source": [
    "print(findMaxSubArray(E))"
   ]
  },
  {
   "cell_type": "code",
   "execution_count": 9,
   "metadata": {},
   "outputs": [
    {
     "name": "stdout",
     "output_type": "stream",
     "text": [
      "[1]\n"
     ]
    }
   ],
   "source": [
    "print(findMaxSubArray(D))"
   ]
  },
  {
   "cell_type": "code",
   "execution_count": 10,
   "metadata": {},
   "outputs": [
    {
     "name": "stdout",
     "output_type": "stream",
     "text": [
      "[0]\n"
     ]
    }
   ],
   "source": [
    "print(findMaxSubArray(F))"
   ]
  },
  {
   "cell_type": "markdown",
   "metadata": {},
   "source": [
    "**Примечание:** \n",
    "* Так как в условиях задачи не сказано, какой массив нужно возвращать, если в массиве есть более одного подмассива с одинаковой суммой независимо от их длины, то возвращается 1-ый по очередности массив.     \n",
    "* Если на вход подается массив, состоящий из нулей, то сумма всех подмассивов этого массива будет равняться 0. В таком случае функция выдает массив [0]"
   ]
  }
 ],
 "metadata": {
  "kernelspec": {
   "display_name": "Python 3",
   "language": "python",
   "name": "python3"
  },
  "language_info": {
   "codemirror_mode": {
    "name": "ipython",
    "version": 3
   },
   "file_extension": ".py",
   "mimetype": "text/x-python",
   "name": "python",
   "nbconvert_exporter": "python",
   "pygments_lexer": "ipython3",
   "version": "3.7.6"
  }
 },
 "nbformat": 4,
 "nbformat_minor": 4
}
