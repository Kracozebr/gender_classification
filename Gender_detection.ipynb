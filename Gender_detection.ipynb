{
 "cells": [
  {
   "cell_type": "markdown",
   "metadata": {},
   "source": [
    "# Классификация пола по изображению лица\n",
    "\n",
    "---\n",
    "## 1. Введение\n",
    "\n",
    "Классификация изображений, содержащих лица людей. \n",
    "\n",
    "### 1.1 Задача\n",
    "Определить пол человека по изображению.\n",
    "\n",
    "### 1.2 Датасет\n",
    "\n",
    "Датасет предоставлен компанией NtechLab\n",
    "\n",
    "### 1.3 Оценка и результаты\n",
    "\n",
    "В качестве оценки используется метрика accuracy.\n",
    "Результат: файл process_results.json с информацией о результатах\n",
    "процессинга.\n",
    "Пример файла результатов:\n",
    "{ ‘img_1.jpg’: ‘male’, ‘img_2.jpg’: ‘female’, ...}\n",
    "\n",
    "### 1.4 Исходные данные\n",
    "\n",
    "Некоторая информация о данных.\n",
    "* Имеем дело и изображениями(неструктурированные данные), поэтому будем использовать deep/transfer learning\n",
    "* Даны мужские и женские лица (это значит, что существует 2 класса)\n",
    "* Данные не разделеы на тренировочную и тестовую выборку. Всего 50 тыс. картинок с изображением лиц женщин и 50 тыс. изображений\n",
    "лиц мужчин. Файлы расположены в двух папках female и male.\n",
    "\n",
    "\n"
   ]
  },
  {
   "cell_type": "markdown",
   "metadata": {},
   "source": [
    "## 2. Подготовим список labels c разметкой, а также список с путями к файлам.\n",
    "Датафрейм будет состоять из двух столбцов в первом название изображения, во втором - класс (male или female)"
   ]
  },
  {
   "cell_type": "code",
   "execution_count": 1,
   "metadata": {},
   "outputs": [],
   "source": [
    "# Импортируем необходимые библиотеки\n",
    "import pandas as pd\n",
    "import os\n",
    "import numpy as np\n",
    "from IPython.display import Image,display\n",
    "\n",
    "from matplotlib import pyplot as plt\n",
    "import seaborn as sns\n",
    "%matplotlib inline\n",
    "\n",
    "from sklearn.model_selection import train_test_split\n",
    "\n",
    "from keras.applications.inception_v3 import InceptionV3, preprocess_input\n",
    "from keras import optimizers\n",
    "from keras.models import Sequential, Model\n",
    "from keras.layers import Dropout, Dense, Flatten, GlobalAveragePooling2D\n",
    "from keras.callbacks import ModelCheckpoint\n",
    "from keras.utils import np_utils\n",
    "from keras.optimizers import SGD\n",
    "import tensorflow as tf"
   ]
  },
  {
   "cell_type": "code",
   "execution_count": 2,
   "metadata": {},
   "outputs": [],
   "source": [
    "# Подготовим директории файлов\n",
    "directory_female = r'C:\\Users\\User\\Jupiter\\Gender_detetion\\internship_data\\female'\n",
    "directory_male = r'C:\\Users\\User\\Jupiter\\Gender_detetion\\internship_data\\male'"
   ]
  },
  {
   "cell_type": "code",
   "execution_count": 3,
   "metadata": {},
   "outputs": [
    {
     "name": "stdout",
     "output_type": "stream",
     "text": [
      "50002\n",
      "50002\n"
     ]
    }
   ],
   "source": [
    "# Найдем имена файлов\n",
    "files_female = os.listdir(directory_female)\n",
    "files_male = os.listdir(directory_male)\n",
    "print(len(files_female))\n",
    "print(len(files_male))"
   ]
  },
  {
   "cell_type": "code",
   "execution_count": 4,
   "metadata": {},
   "outputs": [
    {
     "name": "stdout",
     "output_type": "stream",
     "text": [
      "50001\n",
      "50001\n"
     ]
    }
   ],
   "source": [
    "# Отфильтруем файлы, оставим только с расширением *.jpg\n",
    "images_female = list(filter(lambda x: x.endswith('.jpg'), files_female))\n",
    "images_male = list(filter(lambda x: x.endswith('.jpg'), files_male))\n",
    "print(len(images_female))\n",
    "print(len(images_male))"
   ]
  },
  {
   "cell_type": "markdown",
   "metadata": {},
   "source": [
    "### Обозначим женские лица - 0, а мужские лица - 1"
   ]
  },
  {
   "cell_type": "code",
   "execution_count": 5,
   "metadata": {},
   "outputs": [],
   "source": [
    "# Создадим дата фреймы с лейблами\n",
    "df_female = pd.DataFrame({'name':images_female, 'Gender': '0'})\n",
    "df_male = pd.DataFrame({'name':images_male, 'Gender': '1'})"
   ]
  },
  {
   "cell_type": "code",
   "execution_count": 6,
   "metadata": {},
   "outputs": [
    {
     "data": {
      "text/html": [
       "<div>\n",
       "<style scoped>\n",
       "    .dataframe tbody tr th:only-of-type {\n",
       "        vertical-align: middle;\n",
       "    }\n",
       "\n",
       "    .dataframe tbody tr th {\n",
       "        vertical-align: top;\n",
       "    }\n",
       "\n",
       "    .dataframe thead th {\n",
       "        text-align: right;\n",
       "    }\n",
       "</style>\n",
       "<table border=\"1\" class=\"dataframe\">\n",
       "  <thead>\n",
       "    <tr style=\"text-align: right;\">\n",
       "      <th></th>\n",
       "      <th>name</th>\n",
       "      <th>Gender</th>\n",
       "    </tr>\n",
       "  </thead>\n",
       "  <tbody>\n",
       "    <tr>\n",
       "      <th>0</th>\n",
       "      <td>000007.jpg</td>\n",
       "      <td>1</td>\n",
       "    </tr>\n",
       "    <tr>\n",
       "      <th>1</th>\n",
       "      <td>000012.jpg</td>\n",
       "      <td>1</td>\n",
       "    </tr>\n",
       "    <tr>\n",
       "      <th>2</th>\n",
       "      <td>000013.jpg</td>\n",
       "      <td>1</td>\n",
       "    </tr>\n",
       "    <tr>\n",
       "      <th>3</th>\n",
       "      <td>000020.jpg</td>\n",
       "      <td>1</td>\n",
       "    </tr>\n",
       "    <tr>\n",
       "      <th>4</th>\n",
       "      <td>000021.jpg</td>\n",
       "      <td>1</td>\n",
       "    </tr>\n",
       "  </tbody>\n",
       "</table>\n",
       "</div>"
      ],
      "text/plain": [
       "         name Gender\n",
       "0  000007.jpg      1\n",
       "1  000012.jpg      1\n",
       "2  000013.jpg      1\n",
       "3  000020.jpg      1\n",
       "4  000021.jpg      1"
      ]
     },
     "execution_count": 6,
     "metadata": {},
     "output_type": "execute_result"
    }
   ],
   "source": [
    "df_male.head()"
   ]
  },
  {
   "cell_type": "code",
   "execution_count": 7,
   "metadata": {},
   "outputs": [
    {
     "data": {
      "text/html": [
       "<div>\n",
       "<style scoped>\n",
       "    .dataframe tbody tr th:only-of-type {\n",
       "        vertical-align: middle;\n",
       "    }\n",
       "\n",
       "    .dataframe tbody tr th {\n",
       "        vertical-align: top;\n",
       "    }\n",
       "\n",
       "    .dataframe thead th {\n",
       "        text-align: right;\n",
       "    }\n",
       "</style>\n",
       "<table border=\"1\" class=\"dataframe\">\n",
       "  <thead>\n",
       "    <tr style=\"text-align: right;\">\n",
       "      <th></th>\n",
       "      <th>name</th>\n",
       "      <th>Gender</th>\n",
       "    </tr>\n",
       "  </thead>\n",
       "  <tbody>\n",
       "    <tr>\n",
       "      <th>0</th>\n",
       "      <td>000001.jpg</td>\n",
       "      <td>0</td>\n",
       "    </tr>\n",
       "    <tr>\n",
       "      <th>1</th>\n",
       "      <td>000004.jpg</td>\n",
       "      <td>0</td>\n",
       "    </tr>\n",
       "    <tr>\n",
       "      <th>2</th>\n",
       "      <td>000009.jpg</td>\n",
       "      <td>0</td>\n",
       "    </tr>\n",
       "    <tr>\n",
       "      <th>3</th>\n",
       "      <td>000010.jpg</td>\n",
       "      <td>0</td>\n",
       "    </tr>\n",
       "    <tr>\n",
       "      <th>4</th>\n",
       "      <td>000022.jpg</td>\n",
       "      <td>0</td>\n",
       "    </tr>\n",
       "  </tbody>\n",
       "</table>\n",
       "</div>"
      ],
      "text/plain": [
       "         name Gender\n",
       "0  000001.jpg      0\n",
       "1  000004.jpg      0\n",
       "2  000009.jpg      0\n",
       "3  000010.jpg      0\n",
       "4  000022.jpg      0"
      ]
     },
     "execution_count": 7,
     "metadata": {},
     "output_type": "execute_result"
    }
   ],
   "source": [
    "df_female.head()"
   ]
  },
  {
   "cell_type": "code",
   "execution_count": 8,
   "metadata": {},
   "outputs": [
    {
     "data": {
      "text/html": [
       "<div>\n",
       "<style scoped>\n",
       "    .dataframe tbody tr th:only-of-type {\n",
       "        vertical-align: middle;\n",
       "    }\n",
       "\n",
       "    .dataframe tbody tr th {\n",
       "        vertical-align: top;\n",
       "    }\n",
       "\n",
       "    .dataframe thead th {\n",
       "        text-align: right;\n",
       "    }\n",
       "</style>\n",
       "<table border=\"1\" class=\"dataframe\">\n",
       "  <thead>\n",
       "    <tr style=\"text-align: right;\">\n",
       "      <th></th>\n",
       "      <th>name</th>\n",
       "      <th>Gender</th>\n",
       "    </tr>\n",
       "  </thead>\n",
       "  <tbody>\n",
       "    <tr>\n",
       "      <th>50001</th>\n",
       "      <td>000007.jpg</td>\n",
       "      <td>1</td>\n",
       "    </tr>\n",
       "    <tr>\n",
       "      <th>50002</th>\n",
       "      <td>000012.jpg</td>\n",
       "      <td>1</td>\n",
       "    </tr>\n",
       "    <tr>\n",
       "      <th>50003</th>\n",
       "      <td>000013.jpg</td>\n",
       "      <td>1</td>\n",
       "    </tr>\n",
       "    <tr>\n",
       "      <th>50004</th>\n",
       "      <td>000020.jpg</td>\n",
       "      <td>1</td>\n",
       "    </tr>\n",
       "    <tr>\n",
       "      <th>50005</th>\n",
       "      <td>000021.jpg</td>\n",
       "      <td>1</td>\n",
       "    </tr>\n",
       "    <tr>\n",
       "      <th>50006</th>\n",
       "      <td>000036.jpg</td>\n",
       "      <td>1</td>\n",
       "    </tr>\n",
       "    <tr>\n",
       "      <th>50007</th>\n",
       "      <td>000038.jpg</td>\n",
       "      <td>1</td>\n",
       "    </tr>\n",
       "    <tr>\n",
       "      <th>50008</th>\n",
       "      <td>000041.jpg</td>\n",
       "      <td>1</td>\n",
       "    </tr>\n",
       "    <tr>\n",
       "      <th>50009</th>\n",
       "      <td>000048.jpg</td>\n",
       "      <td>1</td>\n",
       "    </tr>\n",
       "    <tr>\n",
       "      <th>50010</th>\n",
       "      <td>000050.jpg</td>\n",
       "      <td>1</td>\n",
       "    </tr>\n",
       "  </tbody>\n",
       "</table>\n",
       "</div>"
      ],
      "text/plain": [
       "             name Gender\n",
       "50001  000007.jpg      1\n",
       "50002  000012.jpg      1\n",
       "50003  000013.jpg      1\n",
       "50004  000020.jpg      1\n",
       "50005  000021.jpg      1\n",
       "50006  000036.jpg      1\n",
       "50007  000038.jpg      1\n",
       "50008  000041.jpg      1\n",
       "50009  000048.jpg      1\n",
       "50010  000050.jpg      1"
      ]
     },
     "execution_count": 8,
     "metadata": {},
     "output_type": "execute_result"
    }
   ],
   "source": [
    "# Объеденим два дата фрейма\n",
    "frames = [df_female, df_male]\n",
    "df =  pd.concat(frames, ignore_index=True)\n",
    "len(df)\n",
    "df[50001:50011]"
   ]
  },
  {
   "cell_type": "markdown",
   "metadata": {},
   "source": [
    "Проверим количество уникальных имен изображений"
   ]
  },
  {
   "cell_type": "code",
   "execution_count": 9,
   "metadata": {},
   "outputs": [
    {
     "data": {
      "text/plain": [
       "100002"
      ]
     },
     "execution_count": 9,
     "metadata": {},
     "output_type": "execute_result"
    }
   ],
   "source": [
    "len(df['name'].unique().tolist())"
   ]
  },
  {
   "cell_type": "markdown",
   "metadata": {},
   "source": [
    "**Хорошо, значит повторяющихся имен изображений нет и мы не сможем запутаться при сопоставлении изображений с разметкой**"
   ]
  },
  {
   "cell_type": "markdown",
   "metadata": {},
   "source": [
    "Перемешаем все данные в случайном порядке, сейчас идут сначала женские лица, затем мужские"
   ]
  },
  {
   "cell_type": "code",
   "execution_count": 10,
   "metadata": {},
   "outputs": [],
   "source": [
    "df = df.sample(frac=1, random_state=42) # Укажем рэндом стейт для повторяемости"
   ]
  },
  {
   "cell_type": "code",
   "execution_count": 11,
   "metadata": {},
   "outputs": [
    {
     "data": {
      "text/html": [
       "<div>\n",
       "<style scoped>\n",
       "    .dataframe tbody tr th:only-of-type {\n",
       "        vertical-align: middle;\n",
       "    }\n",
       "\n",
       "    .dataframe tbody tr th {\n",
       "        vertical-align: top;\n",
       "    }\n",
       "\n",
       "    .dataframe thead th {\n",
       "        text-align: right;\n",
       "    }\n",
       "</style>\n",
       "<table border=\"1\" class=\"dataframe\">\n",
       "  <thead>\n",
       "    <tr style=\"text-align: right;\">\n",
       "      <th></th>\n",
       "      <th>name</th>\n",
       "      <th>Gender</th>\n",
       "    </tr>\n",
       "  </thead>\n",
       "  <tbody>\n",
       "    <tr>\n",
       "      <th>62004</th>\n",
       "      <td>048523.jpg</td>\n",
       "      <td>1</td>\n",
       "    </tr>\n",
       "    <tr>\n",
       "      <th>58589</th>\n",
       "      <td>034590.jpg</td>\n",
       "      <td>1</td>\n",
       "    </tr>\n",
       "    <tr>\n",
       "      <th>1956</th>\n",
       "      <td>008001.jpg</td>\n",
       "      <td>0</td>\n",
       "    </tr>\n",
       "    <tr>\n",
       "      <th>11529</th>\n",
       "      <td>046633.jpg</td>\n",
       "      <td>0</td>\n",
       "    </tr>\n",
       "    <tr>\n",
       "      <th>39495</th>\n",
       "      <td>161192.jpg</td>\n",
       "      <td>0</td>\n",
       "    </tr>\n",
       "    <tr>\n",
       "      <th>93481</th>\n",
       "      <td>174845.jpg</td>\n",
       "      <td>1</td>\n",
       "    </tr>\n",
       "    <tr>\n",
       "      <th>30102</th>\n",
       "      <td>122925.jpg</td>\n",
       "      <td>0</td>\n",
       "    </tr>\n",
       "    <tr>\n",
       "      <th>64227</th>\n",
       "      <td>057462.jpg</td>\n",
       "      <td>1</td>\n",
       "    </tr>\n",
       "    <tr>\n",
       "      <th>33356</th>\n",
       "      <td>136072.jpg</td>\n",
       "      <td>0</td>\n",
       "    </tr>\n",
       "    <tr>\n",
       "      <th>87432</th>\n",
       "      <td>150835.jpg</td>\n",
       "      <td>1</td>\n",
       "    </tr>\n",
       "  </tbody>\n",
       "</table>\n",
       "</div>"
      ],
      "text/plain": [
       "             name Gender\n",
       "62004  048523.jpg      1\n",
       "58589  034590.jpg      1\n",
       "1956   008001.jpg      0\n",
       "11529  046633.jpg      0\n",
       "39495  161192.jpg      0\n",
       "93481  174845.jpg      1\n",
       "30102  122925.jpg      0\n",
       "64227  057462.jpg      1\n",
       "33356  136072.jpg      0\n",
       "87432  150835.jpg      1"
      ]
     },
     "execution_count": 11,
     "metadata": {},
     "output_type": "execute_result"
    }
   ],
   "source": [
    "# Посмотрим как данные перемешались\n",
    "df[:10]"
   ]
  },
  {
   "cell_type": "code",
   "execution_count": 12,
   "metadata": {},
   "outputs": [],
   "source": [
    "# Конвертируем тип переменной пол в int\n",
    "df['Gender'] = df['Gender'].astype(int)"
   ]
  },
  {
   "cell_type": "markdown",
   "metadata": {},
   "source": [
    "### Перемешаем пути к файлам, чтобы они соответствовали порядку в нашем df"
   ]
  },
  {
   "cell_type": "code",
   "execution_count": 13,
   "metadata": {},
   "outputs": [
    {
     "data": {
      "text/plain": [
       "['C:\\\\Users\\\\User\\\\Jupiter\\\\Gender_detetion\\\\internship_data\\\\male\\\\048523.jpg',\n",
       " 'C:\\\\Users\\\\User\\\\Jupiter\\\\Gender_detetion\\\\internship_data\\\\male\\\\034590.jpg',\n",
       " 'C:\\\\Users\\\\User\\\\Jupiter\\\\Gender_detetion\\\\internship_data\\\\female\\\\008001.jpg',\n",
       " 'C:\\\\Users\\\\User\\\\Jupiter\\\\Gender_detetion\\\\internship_data\\\\female\\\\046633.jpg',\n",
       " 'C:\\\\Users\\\\User\\\\Jupiter\\\\Gender_detetion\\\\internship_data\\\\female\\\\161192.jpg',\n",
       " 'C:\\\\Users\\\\User\\\\Jupiter\\\\Gender_detetion\\\\internship_data\\\\male\\\\174845.jpg',\n",
       " 'C:\\\\Users\\\\User\\\\Jupiter\\\\Gender_detetion\\\\internship_data\\\\female\\\\122925.jpg',\n",
       " 'C:\\\\Users\\\\User\\\\Jupiter\\\\Gender_detetion\\\\internship_data\\\\male\\\\057462.jpg',\n",
       " 'C:\\\\Users\\\\User\\\\Jupiter\\\\Gender_detetion\\\\internship_data\\\\female\\\\136072.jpg',\n",
       " 'C:\\\\Users\\\\User\\\\Jupiter\\\\Gender_detetion\\\\internship_data\\\\male\\\\150835.jpg']"
      ]
     },
     "execution_count": 13,
     "metadata": {},
     "output_type": "execute_result"
    }
   ],
   "source": [
    "# Теперь нужно составить список с путями к файлам\n",
    "paths = []\n",
    "for ind in  df.index:\n",
    "    if df[\"Gender\"][ind] > 0:\n",
    "        paths.append(directory_male + \"\\\\\" + df[\"name\"][ind])\n",
    "    else:\n",
    "        paths.append(directory_female + \"\\\\\" +  df[\"name\"][ind])\n",
    "paths[:10]"
   ]
  },
  {
   "cell_type": "markdown",
   "metadata": {},
   "source": [
    "**При сравнении первых 10 имен изображений в df и в списке видно, что пути правильно прописались**"
   ]
  },
  {
   "cell_type": "markdown",
   "metadata": {},
   "source": [
    "**Сформируем numpy список для меток**"
   ]
  },
  {
   "cell_type": "code",
   "execution_count": 15,
   "metadata": {},
   "outputs": [
    {
     "data": {
      "text/plain": [
       "array([1, 1, 0, ..., 1, 0, 0])"
      ]
     },
     "execution_count": 15,
     "metadata": {},
     "output_type": "execute_result"
    }
   ],
   "source": [
    "labels = df[\"Gender\"].to_numpy()\n",
    "labels"
   ]
  },
  {
   "cell_type": "markdown",
   "metadata": {},
   "source": [
    "**Проверим количество уникальных меток**"
   ]
  },
  {
   "cell_type": "code",
   "execution_count": 17,
   "metadata": {},
   "outputs": [
    {
     "data": {
      "text/plain": [
       "2"
      ]
     },
     "execution_count": 17,
     "metadata": {},
     "output_type": "execute_result"
    }
   ],
   "source": [
    "unique_labels = np.unique(labels)\n",
    "len(unique_labels)"
   ]
  },
  {
   "cell_type": "code",
   "execution_count": 18,
   "metadata": {},
   "outputs": [
    {
     "name": "stdout",
     "output_type": "stream",
     "text": [
      "Количество меток совпадает с количеством путей!\n"
     ]
    }
   ],
   "source": [
    "# Проверим количество меток совпадает с количеством путей к файлам\n",
    "if len(labels) == len(paths):\n",
    "  print(\"Количество меток совпадает с количеством путей!\")\n",
    "else:\n",
    "  print(\"Количество меток не совпадает к количеством путей к ним. Проверьте путь к файлам\")"
   ]
  },
  {
   "cell_type": "markdown",
   "metadata": {},
   "source": [
    "**Теперь нужно сформировать массив c метками**"
   ]
  },
  {
   "cell_type": "code",
   "execution_count": 21,
   "metadata": {},
   "outputs": [
    {
     "data": {
      "text/plain": [
       "[array([False,  True]),\n",
       " array([False,  True]),\n",
       " array([ True, False]),\n",
       " array([ True, False])]"
      ]
     },
     "execution_count": 21,
     "metadata": {},
     "output_type": "execute_result"
    }
   ],
   "source": [
    "# Коневертируем каждую метку в булевый массив\n",
    "boolean_labels = [label == unique_labels for label in labels]\n",
    "boolean_labels[:4]"
   ]
  },
  {
   "cell_type": "markdown",
   "metadata": {},
   "source": [
    "## 3. Разделение подготовленных данных на тренировочную, валидирующую, тестовую"
   ]
  },
  {
   "cell_type": "code",
   "execution_count": 30,
   "metadata": {},
   "outputs": [],
   "source": [
    "# Создадим Х и y\n",
    "X = paths\n",
    "y = boolean_labels"
   ]
  },
  {
   "cell_type": "markdown",
   "metadata": {},
   "source": [
    "Разделим выборку на тренировочную и тестовую\n",
    "Начнем экспериментировать с 1 000 изображений и будем увелчичивать количество изображений"
   ]
  },
  {
   "cell_type": "code",
   "execution_count": 328,
   "metadata": {},
   "outputs": [],
   "source": [
    "# Зададим количество изображений для экспериментов\n",
    "NUM_IMAGES = 1000 "
   ]
  },
  {
   "cell_type": "code",
   "execution_count": 329,
   "metadata": {},
   "outputs": [],
   "source": [
    "# Разделим на тренировочную и валидирующую с количеством изображений равной NUM_IMAGES\n",
    "X_train, X_val, y_train, y_val = train_test_split(X[:NUM_IMAGES], \n",
    "                                                  y[:NUM_IMAGES],\n",
    "                                                  stratify=y[:NUM_IMAGES],\n",
    "                                                  test_size=0.2,\n",
    "                                                  random_state=42)\n"
   ]
  },
  {
   "cell_type": "code",
   "execution_count": 331,
   "metadata": {},
   "outputs": [
    {
     "data": {
      "text/plain": [
       "['C:\\\\Users\\\\User\\\\Jupiter\\\\Gender_detetion\\\\internship_data\\\\female\\\\050087.jpg',\n",
       " 'C:\\\\Users\\\\User\\\\Jupiter\\\\Gender_detetion\\\\internship_data\\\\male\\\\119742.jpg',\n",
       " 'C:\\\\Users\\\\User\\\\Jupiter\\\\Gender_detetion\\\\internship_data\\\\male\\\\184935.jpg',\n",
       " 'C:\\\\Users\\\\User\\\\Jupiter\\\\Gender_detetion\\\\internship_data\\\\female\\\\050993.jpg',\n",
       " 'C:\\\\Users\\\\User\\\\Jupiter\\\\Gender_detetion\\\\internship_data\\\\male\\\\156545.jpg',\n",
       " 'C:\\\\Users\\\\User\\\\Jupiter\\\\Gender_detetion\\\\internship_data\\\\female\\\\041483.jpg',\n",
       " 'C:\\\\Users\\\\User\\\\Jupiter\\\\Gender_detetion\\\\internship_data\\\\male\\\\183199.jpg',\n",
       " 'C:\\\\Users\\\\User\\\\Jupiter\\\\Gender_detetion\\\\internship_data\\\\male\\\\045540.jpg',\n",
       " 'C:\\\\Users\\\\User\\\\Jupiter\\\\Gender_detetion\\\\internship_data\\\\male\\\\132751.jpg',\n",
       " 'C:\\\\Users\\\\User\\\\Jupiter\\\\Gender_detetion\\\\internship_data\\\\male\\\\145377.jpg']"
      ]
     },
     "execution_count": 331,
     "metadata": {},
     "output_type": "execute_result"
    }
   ],
   "source": [
    "X_train[30:40]"
   ]
  },
  {
   "cell_type": "code",
   "execution_count": 332,
   "metadata": {},
   "outputs": [
    {
     "data": {
      "text/plain": [
       "[array([ True, False]),\n",
       " array([False,  True]),\n",
       " array([False,  True]),\n",
       " array([ True, False]),\n",
       " array([False,  True]),\n",
       " array([ True, False]),\n",
       " array([False,  True]),\n",
       " array([False,  True]),\n",
       " array([False,  True]),\n",
       " array([False,  True])]"
      ]
     },
     "execution_count": 332,
     "metadata": {},
     "output_type": "execute_result"
    }
   ],
   "source": [
    "y_train[30:40]"
   ]
  },
  {
   "cell_type": "code",
   "execution_count": 283,
   "metadata": {},
   "outputs": [],
   "source": [
    "# sns.countplot([y_train[i].astype(int) for i in range(len(y_train))]);\n"
   ]
  },
  {
   "cell_type": "code",
   "execution_count": 284,
   "metadata": {},
   "outputs": [],
   "source": [
    "# sns.countplot(y_val);"
   ]
  },
  {
   "cell_type": "markdown",
   "metadata": {},
   "source": [
    "Хотя была использована опция stratify тренировочный и валидационный сет разбился не ровно 50/50, судя по всему потому, что в первая 1000 изображений содержит немного разное количество женских и мужских лиц. В приципе классы сбалансированы, но когда будет обучать модель на всем датасете разбиение будет 50/50, причем как для тренировочной, так и для валидационной выборки"
   ]
  },
  {
   "cell_type": "code",
   "execution_count": 22,
   "metadata": {},
   "outputs": [
    {
     "data": {
      "image/jpeg": "[encoded data removed]",
      "text/plain": [
       "<IPython.core.display.Image object>"
      ]
     },
     "metadata": {},
     "output_type": "display_data"
    }
   ],
   "source": [
    "# Проверим, правильно ли указаны пути к файлам\n",
    "\n",
    "display(Image(paths[5]))"
   ]
  },
  {
   "cell_type": "markdown",
   "metadata": {},
   "source": [
    "**Случайно попали на такого серьезного дядьку :)**"
   ]
  },
  {
   "cell_type": "code",
   "execution_count": 23,
   "metadata": {},
   "outputs": [],
   "source": [
    "# Определим размер изображения\n",
    "IMG_height = 200\n",
    "IMG_width = 200\n",
    "\n",
    "# Создадим функцию для препроцессинга изображений\n",
    "\n",
    "def process_image(image_path, img_height=IMG_height, img_width=IMG_width):\n",
    "    \"\"\"\n",
    "    На вход подается путь к изображению и функция конвертирует изображение в тезор.\n",
    "    \"\"\"\n",
    "    # Считаем изображение\n",
    "    image = tf.io.read_file(image_path)\n",
    "    # Конвертируем изображение в формате jpeg в числовой тензор с 3 каналами (красный, зеленый и синий)\n",
    "    image = tf.image.decode_jpeg(image, channels=3)\n",
    "    # Конвертируем каналы цвета из диапазано 0-255 в диапазон 0-1(нормализуем)\n",
    "    image = tf.image.convert_image_dtype(image, tf.float32)\n",
    "    # Изменим размер наших рисунков до (300, 300)\n",
    "    image = tf.image.resize(image, size=(IMG_height, IMG_width))\n",
    "\n",
    "    return image"
   ]
  },
  {
   "cell_type": "markdown",
   "metadata": {},
   "source": [
    "**Проверим как работает наша функция**"
   ]
  },
  {
   "cell_type": "code",
   "execution_count": 288,
   "metadata": {},
   "outputs": [
    {
     "data": {
      "image/png": "[encoded data removed]",
      "text/plain": [
       "<Figure size 432x288 with 1 Axes>"
      ]
     },
     "metadata": {
      "needs_background": "light"
     },
     "output_type": "display_data"
    }
   ],
   "source": [
    "pic = process_image(X_train[0])\n",
    "pic1 = img_to_array(pic)*255\n",
    "\n",
    "\n",
    "plt.imshow((pic1).astype(np.uint8))\n",
    "plt.show()"
   ]
  },
  {
   "cell_type": "markdown",
   "metadata": {},
   "source": [
    "### 4. Создадим батчи наших изображений\n",
    "Если мы попытаемся задействовать все 1000 (или больше)изображений за один раз, есть вероятность, что они не \"поместятся\" в оперативную память\n",
    "\n",
    "Поэтому мы будем использовать пакет (batch), состоящий из 32 изображений (мы сможем вручну настроить размер пакета, если это необходимо).\n",
    "\n",
    "Для того, чтобы ипользовать TensorFlow эффективно нам необходимо, чтобы наши данные находились в формате кортежа (typle), который выглядит слудующим образом: (image, label)."
   ]
  },
  {
   "cell_type": "code",
   "execution_count": 24,
   "metadata": {},
   "outputs": [],
   "source": [
    "# Создадим функцию , которая возвращает кортеж (image, label)\n",
    "def get_image_label(image_path, label):\n",
    "    \"\"\"\n",
    "    Берет путь файла и его метку, подготавливает изображение и возвращает \n",
    "    кортеж (image, label).\n",
    "    \"\"\"\n",
    "\n",
    "    image = process_image(image_path)\n",
    "    return image, label"
   ]
  },
  {
   "cell_type": "code",
   "execution_count": 294,
   "metadata": {},
   "outputs": [
    {
     "data": {
      "text/plain": [
       "(<tf.Tensor: shape=(200, 200, 3), dtype=float32, numpy=\n",
       " array([[[9.2580396e-01, 7.3364711e-01, 5.0227451e-01],\n",
       "         [9.3463850e-01, 7.4248159e-01, 5.1110905e-01],\n",
       "         [9.0729415e-01, 7.1200001e-01, 4.7435299e-01],\n",
       "         ...,\n",
       "         [5.9272158e-01, 6.1232942e-01, 5.9664315e-01],\n",
       "         [5.9215689e-01, 6.1176473e-01, 5.9607846e-01],\n",
       "         [5.9215689e-01, 6.1176473e-01, 5.9607846e-01]],\n",
       " \n",
       "        [[9.3874514e-01, 7.4447066e-01, 5.1309806e-01],\n",
       "         [9.2494124e-01, 7.3066670e-01, 4.9929416e-01],\n",
       "         [9.0567851e-01, 7.0657259e-01, 4.7061965e-01],\n",
       "         ...,\n",
       "         [5.9529418e-01, 6.1532551e-01, 5.9963924e-01],\n",
       "         [5.9190273e-01, 6.1362821e-01, 5.9794194e-01],\n",
       "         [5.9003925e-01, 6.1176473e-01, 5.9607846e-01]],\n",
       " \n",
       "        [[8.9450985e-01, 6.9843137e-01, 4.6705884e-01],\n",
       "         [8.8070595e-01, 6.8462747e-01, 4.4704318e-01],\n",
       "         [8.7129420e-01, 6.6894120e-01, 4.3301964e-01],\n",
       "         ...,\n",
       "         [5.9529418e-01, 6.1568630e-01, 6.0000002e-01],\n",
       "         [5.9168625e-01, 6.1521566e-01, 5.9952939e-01],\n",
       "         [5.8823532e-01, 6.1176473e-01, 5.9607846e-01]],\n",
       " \n",
       "        ...,\n",
       " \n",
       "        [[3.0078426e-01, 9.7647041e-02, 3.5293880e-03],\n",
       "         [3.0423525e-01, 1.0420388e-01, 4.2352651e-04],\n",
       "         [3.2352936e-01, 1.0854900e-01, 8.7842755e-03],\n",
       "         ...,\n",
       "         [7.4470580e-01, 5.5733317e-01, 4.0117627e-01],\n",
       "         [7.4887848e-01, 5.7165492e-01, 4.1926280e-01],\n",
       "         [7.5647062e-01, 5.8235282e-01, 4.3686265e-01]],\n",
       " \n",
       "        [[2.8658831e-01, 9.4117656e-02, 1.8038881e-03],\n",
       "         [2.9321414e-01, 9.7568639e-02, 2.1646656e-04],\n",
       "         [3.1294119e-01, 1.0431373e-01, 3.1372549e-03],\n",
       "         ...,\n",
       "         [7.2257274e-01, 5.1890218e-01, 3.5951397e-01],\n",
       "         [7.3192185e-01, 5.3712052e-01, 3.8235343e-01],\n",
       "         [7.4572569e-01, 5.5568647e-01, 4.0305910e-01]],\n",
       " \n",
       "        [[2.7913725e-01, 9.0901934e-02, 7.0585357e-04],\n",
       "         [2.8949019e-01, 9.4352923e-02, 8.4702420e-05],\n",
       "         [3.0200773e-01, 9.8525450e-02, 3.1372549e-03],\n",
       "         ...,\n",
       "         [6.8458009e-01, 4.7687817e-01, 3.1388202e-01],\n",
       "         [7.0492870e-01, 4.9843150e-01, 3.4257576e-01],\n",
       "         [7.2439206e-01, 5.2258807e-01, 3.6894101e-01]]], dtype=float32)>,\n",
       " <tf.Tensor: shape=(2,), dtype=bool, numpy=array([ True, False])>)"
      ]
     },
     "execution_count": 294,
     "metadata": {},
     "output_type": "execute_result"
    }
   ],
   "source": [
    "# Проверим как будет работать функция\n",
    "(process_image(X[2]), tf.constant(y[2]))"
   ]
  },
  {
   "cell_type": "markdown",
   "metadata": {},
   "source": [
    "**Теперь у нас есть возможность возвращать наши данные в виде кортежей тензоров (image, label) сделаем функцию для того, чтобы конвертировать наши данныые (X и y)**"
   ]
  },
  {
   "cell_type": "code",
   "execution_count": 25,
   "metadata": {},
   "outputs": [],
   "source": [
    "# Определим размер батча, 32 это хороший размер\n",
    "BATCH_SIZE = 32\n",
    "\n",
    "# Создадим функцию для преобразования в батчи(пакеты)\n",
    "def create_data_batches (X, y=None, batch_size=BATCH_SIZE, valid_data=False, test_data=False):\n",
    "    \"\"\"\n",
    "    Создадает пакеты данных из изображений (X) и меток (y) в виде пары.\n",
    "    Перемешивает данные если функция используется на тренировочной выборке, но не перемешивает - если\n",
    "    на валидуриющей.\n",
    "    Также позволяет подготовить тестовую выборку (в которой нет меток)\n",
    "    \"\"\"\n",
    "    # Если выборка представлет их себя тестовый датасет у нас скорее  всего не будет меток для ее\n",
    "    if test_data:\n",
    "        print(\"Создаются пакеты для тестовой выборки...\")\n",
    "        data = tf.data.Dataset.from_tensor_slices((tf.constant(X))) # Только пути к файлам (без меток)\n",
    "        data_batch = data.map(process_image).batch(BATCH_SIZE)\n",
    "        return data_batch\n",
    "\n",
    "    # Если на вход поступает валидирующая выборка нам не нужно перемешивать ее\n",
    "    elif valid_data:\n",
    "        print(\"Создаются пакетs для валидирующей выборки...\")\n",
    "        data = tf.data.Dataset.from_tensor_slices((tf.constant(X), # Пути к файлам\n",
    "                                                   tf.constant(y))) #  метки\n",
    "        data_batch = data.map(get_image_label).batch(BATCH_SIZE)       \n",
    "        return data_batch\n",
    "\n",
    "    else:\n",
    "        print(\"Создаются пакеты для тренировочной выборки...\")    \n",
    "    # Конвертируем пути файлов и метки в тензоры\n",
    "        data = tf.data.Dataset.from_tensor_slices((tf.constant(X),\n",
    "                                               tf.constant(y))) \n",
    "        \n",
    "        data_batch = data.map(get_image_label).batch(BATCH_SIZE)  \n",
    "\n",
    "        return data_batch"
   ]
  },
  {
   "cell_type": "code",
   "execution_count": 333,
   "metadata": {},
   "outputs": [
    {
     "name": "stdout",
     "output_type": "stream",
     "text": [
      "Создаются пакеты для тренировочной выборки...\n",
      "Создаются пакетs для валидирующей выборки...\n"
     ]
    }
   ],
   "source": [
    "train_data = create_data_batches(X_train, y_train)\n",
    "val_data = create_data_batches(X_val, y_val, valid_data=True)"
   ]
  },
  {
   "cell_type": "code",
   "execution_count": 297,
   "metadata": {},
   "outputs": [
    {
     "data": {
      "text/plain": [
       "((TensorSpec(shape=(None, 200, 200, 3), dtype=tf.float32, name=None),\n",
       "  TensorSpec(shape=(None, 2), dtype=tf.bool, name=None)),\n",
       " (TensorSpec(shape=(None, 200, 200, 3), dtype=tf.float32, name=None),\n",
       "  TensorSpec(shape=(None, 2), dtype=tf.bool, name=None)))"
      ]
     },
     "execution_count": 297,
     "metadata": {},
     "output_type": "execute_result"
    }
   ],
   "source": [
    "# Проверим некоторые свойства наших батчей\n",
    "train_data.element_spec, val_data.element_spec"
   ]
  },
  {
   "cell_type": "markdown",
   "metadata": {},
   "source": [
    "## 5. Создадим и обучим модель. Будем использовать transfer learning. В качестве модели возьмем InceptionV3."
   ]
  },
  {
   "cell_type": "code",
   "execution_count": 253,
   "metadata": {},
   "outputs": [
    {
     "name": "stdout",
     "output_type": "stream",
     "text": [
      "Downloading data from https://storage.googleapis.com/tensorflow/keras-applications/inception_v3/inception_v3_weights_tf_dim_ordering_tf_kernels_notop.h5\n",
      "87916544/87910968 [==============================] - 18s 0us/step\n",
      "number of layers in the model :  311\n"
     ]
    }
   ],
   "source": [
    "inc_model = InceptionV3(weights=\"imagenet\", \n",
    "                        include_top=False, \n",
    "                        input_shape=(IMG_height,IMG_width,3))\n",
    "\n",
    "print(\"number of layers in the model : \", len(inc_model.layers))"
   ]
  },
  {
   "cell_type": "markdown",
   "metadata": {},
   "source": [
    "**Верхние слои (включая классификацию не включены). Эти слои будут замещены следующими слоями:**"
   ]
  },
  {
   "cell_type": "code",
   "execution_count": 336,
   "metadata": {},
   "outputs": [],
   "source": [
    "x = inc_model.output\n",
    "x = GlobalAveragePooling2D()(x)\n",
    "x = Dense(1024, activation='relu')(x)\n",
    "x = Dropout(0.5)(x)\n",
    "x = Dense(512, activation='relu')(x)\n",
    "predictions = Dense(2, activation='softmax')(x)"
   ]
  },
  {
   "cell_type": "code",
   "execution_count": 337,
   "metadata": {},
   "outputs": [],
   "source": [
    "# Создадим итоговую модель\n",
    "\n",
    "model_ = Model(inputs=inc_model.input, outputs=predictions)\n",
    "\n",
    "# Залочим слои, чтоб они не были обучены\n",
    "\n",
    "for layer in model_.layers[:52]:\n",
    "    layer.trainable = False\n",
    "    \n",
    "# Скомпилируем модель\n",
    "\n",
    "model_.compile(optimizer=SGD(lr=0.0001, momentum=0.9), loss='categorical_crossentropy', metrics=['accuracy'])"
   ]
  },
  {
   "cell_type": "code",
   "execution_count": 338,
   "metadata": {},
   "outputs": [],
   "source": [
    "# Введем callback ModelCheckpoint\n",
    "\n",
    "checkpointer = ModelCheckpoint(filepath='weights.best.inc.male.hdf5', verbose=1, save_best_only=True)"
   ]
  },
  {
   "cell_type": "code",
   "execution_count": 339,
   "metadata": {},
   "outputs": [
    {
     "name": "stdout",
     "output_type": "stream",
     "text": [
      "Epoch 1/5\n",
      "2501/2500 [==============================] - ETA: -10s - loss: 0.3192 - accuracy: 0.8545\n",
      "Epoch 00001: val_loss improved from inf to 0.15437, saving model to weights.best.inc.male.hdf5\n",
      "2501/2500 [==============================] - 29024s 12s/step - loss: 0.3192 - accuracy: 0.8545 - val_loss: 0.1544 - val_accuracy: 0.9386\n",
      "Epoch 2/5\n",
      "WARNING:tensorflow:Your input ran out of data; interrupting training. Make sure that your dataset or generator can generate at least `steps_per_epoch * epochs` batches (in this case, 12500.15625 batches). You may need to use the repeat() function when building your dataset.\n",
      "\n",
      "Epoch 00002: val_loss did not improve from 0.15437\n",
      "   0/2500 [..............................] - 0s 0s/step - loss: 0.3192 - accuracy: 0.8545 - val_loss: 0.1544 - val_accuracy: 0.9386\n"
     ]
    }
   ],
   "source": [
    "# Обучим модель\n",
    "num_epochs = 5\n",
    "hist = model_.fit(x=train_data,\n",
    "                 epochs=num_epochs,\n",
    "                 validation_data=val_data,\n",
    "                 validation_freq=1,\n",
    "                 steps_per_epoch=len(X_train)/BATCH_SIZE,\n",
    "                 callbacks=[checkpointer],\n",
    "                 verbose=1)"
   ]
  },
  {
   "cell_type": "markdown",
   "metadata": {},
   "source": [
    "*Примечание:*\n",
    "При попытке обучить модель на всех изображениях машина выдает предупреждеие. Так как в тренировочном сете 80001 изображение, а размер  батча 32, количето шагов в одной эпохе (то steps_per_epoch)\n",
    "не целое число немного больше 2500, из-за этого несколько изображений не попали в обучение в 1 эпоху, необходимо было \n",
    "вместо steps_per_epoch=len(X_train)/BATCH_SIZE задать steps_per_epoch=len(X_train)//BATCH_SIZE, тогда бы предупреждения\n",
    "не было и пару изображений не попало б в обучение. В качестве альтернативы, можно было бы округлить значение, до\n",
    "наибольшего целокого steps_per_epoch=math.ceil(len(X_train)/BATCH_SIZE) и тогда количество шагов было бы 2501 и несколько \n",
    "картинок попало бы по второму разу на обучение в одну и ту же эпоху.\n",
    "https://stackoverflow.com/questions/54575714/combining-keras-model-fits-steps-per-epoch-with-tensorflows-dataset-apis-b\n",
    "Судя по всему из-за этого предупреждения вторая эпоха не запустилась. Нужно больше времени, чтобы разобраться в этом."
   ]
  },
  {
   "cell_type": "markdown",
   "metadata": {},
   "source": [
    "### 7.Сохранение модели и метрика"
   ]
  },
  {
   "cell_type": "code",
   "execution_count": 318,
   "metadata": {},
   "outputs": [],
   "source": [
    "# Создадим функцию для сохранения модели\n",
    "def save_model(model, suffix=None):\n",
    "    \"\"\"\n",
    "    Сохраняет данную модель в директорию models и добавляет суффикс(текст)\n",
    "    \"\"\"\n",
    "    # Создадим путь к модели, а также текущее время\n",
    "    directory = r'C:\\Users\\User\\Jupiter\\Gender_detetion\\internship_data\\models'\n",
    "    modeldir = os.path.join(directory, \n",
    "                            datetime.datetime.now().strftime(\"%d-%m-%Y_%H-%M-%S\"))\n",
    "    model_path = modeldir + \"_\" + suffix + \".h5\" # расширение модели\n",
    "    print(f\"Сохранение модели в: {model_path}...\")\n",
    "    model.save(model_path)\n",
    "    return model_path"
   ]
  },
  {
   "cell_type": "code",
   "execution_count": 340,
   "metadata": {},
   "outputs": [
    {
     "name": "stdout",
     "output_type": "stream",
     "text": [
      "Сохранение модели в: C:\\Users\\User\\Jupiter\\Gender_detetion\\internship_data\\models\\08-09-2020_07-36-13_100002_img.h5...\n"
     ]
    },
    {
     "data": {
      "text/plain": [
       "'C:\\\\Users\\\\User\\\\Jupiter\\\\Gender_detetion\\\\internship_data\\\\models\\\\08-09-2020_07-36-13_100002_img.h5'"
      ]
     },
     "execution_count": 340,
     "metadata": {},
     "output_type": "execute_result"
    }
   ],
   "source": [
    "# save_model(model_, suffix='100002_img')"
   ]
  },
  {
   "cell_type": "markdown",
   "metadata": {},
   "source": [
    "**Так как на обученной модели с 100 тыс. изображений обучение законилось на 1-ой эпохе, графики нерепрезентативны**"
   ]
  },
  {
   "cell_type": "code",
   "execution_count": 341,
   "metadata": {},
   "outputs": [
    {
     "data": {
      "image/png": "[encoded data removed]",
      "text/plain": [
       "<Figure size 1296x288 with 1 Axes>"
      ]
     },
     "metadata": {
      "needs_background": "light"
     },
     "output_type": "display_data"
    }
   ],
   "source": [
    "# Функция потерь \n",
    "\n",
    "plt.figure(figsize=(18,4))\n",
    "plt.plot(hist.history['loss'], label='train')\n",
    "plt.plot(hist.history['val_loss'], label='validation')\n",
    "plt.legend()\n",
    "plt.title('loss function')\n",
    "plt.show()"
   ]
  },
  {
   "cell_type": "code",
   "execution_count": 344,
   "metadata": {},
   "outputs": [
    {
     "data": {
      "image/png": "[encoded data removed]",
      "text/plain": [
       "<Figure size 1296x288 with 1 Axes>"
      ]
     },
     "metadata": {
      "needs_background": "light"
     },
     "output_type": "display_data"
    }
   ],
   "source": [
    "# График accuracy по эпохам\n",
    "plt.figure(figsize=(18, 4))\n",
    "plt.plot(hist.history['accuracy'], label = 'train')\n",
    "plt.plot(hist.history['val_accuracy'], label = 'valid')\n",
    "plt.legend()\n",
    "plt.title('Accuracy')\n",
    "plt.show()"
   ]
  },
  {
   "cell_type": "markdown",
   "metadata": {},
   "source": [
    "Так как  в модели с 100 тыс. обучающих изображений модель обучилась всего на одной эпохе, то графики метрики получились не репрезентативными. Для лучших показателей, нужно большее количество эпох. \n",
    "Также нужно было оставить фотографии для тестовой выборки для оценки точности модели."
   ]
  },
  {
   "cell_type": "markdown",
   "metadata": {},
   "source": [
    "Ранее была обучена модель на 1 тыс изображений, на ней можно оценить функцию потерь и точность (accuracy) по эпохам, а также точность на тестирующей выборке."
   ]
  },
  {
   "cell_type": "code",
   "execution_count": 351,
   "metadata": {},
   "outputs": [],
   "source": [
    "# model_1000 = tf.keras.models.load_model(\"C:\\\\Users\\\\User\\\\Jupiter\\\\Gender_detetion\\\\internship_data\\\\models\\\\07-09-2020_22-53-48_1000_img.h5\")"
   ]
  },
  {
   "cell_type": "markdown",
   "metadata": {},
   "source": [
    "К сожалению формат h5 не сохраняет историю, поэтому, чтоб оценить модель, нужно ее заново обучать\n",
    "https://stackoverflow.com/questions/57519131/how-to-load-history-from-saved-model-h5-file"
   ]
  },
  {
   "cell_type": "markdown",
   "metadata": {},
   "source": [
    "### 8. Дополнение. \n",
    "Обучим модель на 10к изображений и посомотрим её метрики."
   ]
  },
  {
   "cell_type": "code",
   "execution_count": 31,
   "metadata": {},
   "outputs": [],
   "source": [
    "# Количество изображений\n",
    "NUM_IMAGES = 10000\n",
    "\n",
    "# Количество эпох\n",
    "num_epochs = 8\n",
    "\n",
    "# Разделим на тренировочную и валидирующую с количеством изображений равной NUM_IMAGES\n",
    "X_train_10k, X_val_10k, y_train_10k, y_val_10k = train_test_split(X[:NUM_IMAGES], \n",
    "                                                                  y[:NUM_IMAGES],\n",
    "                                                                  stratify=y[:NUM_IMAGES],\n",
    "                                                                  test_size=0.2,\n",
    "                                                                  random_state=42)\n",
    "# Создадим тестовую выборку\n",
    "X_test_10k = X[10001:12001]\n",
    "y_test_10k = y[10001:12001]"
   ]
  },
  {
   "cell_type": "code",
   "execution_count": 32,
   "metadata": {},
   "outputs": [
    {
     "name": "stdout",
     "output_type": "stream",
     "text": [
      "Создаются пакеты для тренировочной выборки...\n",
      "Создаются пакетs для валидирующей выборки...\n",
      "Создаются пакетs для валидирующей выборки...\n"
     ]
    }
   ],
   "source": [
    "train_data_10k = create_data_batches(X_train_10k, y_train_10k)\n",
    "val_data_10k = create_data_batches(X_val_10k, y_val_10k, valid_data=True)\n",
    "test_data_10k = create_data_batches(X_test_10k, y_test_10k, valid_data=True)"
   ]
  },
  {
   "cell_type": "code",
   "execution_count": 33,
   "metadata": {},
   "outputs": [
    {
     "data": {
      "text/plain": [
       "(250, 63, 63)"
      ]
     },
     "execution_count": 33,
     "metadata": {},
     "output_type": "execute_result"
    }
   ],
   "source": [
    "len(train_data_10k), len(val_data_10k), len(test_data_10k)"
   ]
  },
  {
   "cell_type": "markdown",
   "metadata": {},
   "source": [
    "**Обучим модель на 10к. изображений, количество эпох намерено установлено побольше**"
   ]
  },
  {
   "cell_type": "code",
   "execution_count": 366,
   "metadata": {},
   "outputs": [
    {
     "name": "stdout",
     "output_type": "stream",
     "text": [
      "Epoch 1/8\n",
      "250/250 [==============================] - ETA: 0s - loss: 0.1726 - accuracy: 0.9310\n",
      "Epoch 00001: val_loss improved from 0.15437 to 0.14039, saving model to weights.best.inc.male.hdf5\n",
      "250/250 [==============================] - 2615s 10s/step - loss: 0.1726 - accuracy: 0.9310 - val_loss: 0.1404 - val_accuracy: 0.9440\n",
      "Epoch 2/8\n",
      "250/250 [==============================] - ETA: 0s - loss: 0.1186 - accuracy: 0.9565\n",
      "Epoch 00002: val_loss improved from 0.14039 to 0.13646, saving model to weights.best.inc.male.hdf5\n",
      "250/250 [==============================] - 2465s 10s/step - loss: 0.1186 - accuracy: 0.9565 - val_loss: 0.1365 - val_accuracy: 0.9440\n",
      "Epoch 3/8\n",
      "250/250 [==============================] - ETA: 0s - loss: 0.0819 - accuracy: 0.9754\n",
      "Epoch 00003: val_loss improved from 0.13646 to 0.13580, saving model to weights.best.inc.male.hdf5\n",
      "250/250 [==============================] - 2525s 10s/step - loss: 0.0819 - accuracy: 0.9754 - val_loss: 0.1358 - val_accuracy: 0.9465\n",
      "Epoch 4/8\n",
      "250/250 [==============================] - ETA: 0s - loss: 0.0567 - accuracy: 0.9852\n",
      "Epoch 00004: val_loss did not improve from 0.13580\n",
      "250/250 [==============================] - 2589s 10s/step - loss: 0.0567 - accuracy: 0.9852 - val_loss: 0.1365 - val_accuracy: 0.9465\n",
      "Epoch 5/8\n",
      "250/250 [==============================] - ETA: 0s - loss: 0.0383 - accuracy: 0.9934 \n",
      "Epoch 00005: val_loss did not improve from 0.13580\n",
      "250/250 [==============================] - 2666s 11s/step - loss: 0.0383 - accuracy: 0.9934 - val_loss: 0.1407 - val_accuracy: 0.9465\n",
      "Epoch 6/8\n",
      "250/250 [==============================] - ETA: 0s - loss: 0.0275 - accuracy: 0.9962 \n",
      "Epoch 00006: val_loss did not improve from 0.13580\n",
      "250/250 [==============================] - 2665s 11s/step - loss: 0.0275 - accuracy: 0.9962 - val_loss: 0.1450 - val_accuracy: 0.9460\n",
      "Epoch 7/8\n",
      "250/250 [==============================] - ETA: 0s - loss: 0.0202 - accuracy: 0.9984\n",
      "Epoch 00007: val_loss did not improve from 0.13580\n",
      "250/250 [==============================] - 2474s 10s/step - loss: 0.0202 - accuracy: 0.9984 - val_loss: 0.1494 - val_accuracy: 0.9475\n",
      "Epoch 8/8\n",
      "250/250 [==============================] - ETA: 0s - loss: 0.0138 - accuracy: 0.9994\n",
      "Epoch 00008: val_loss did not improve from 0.13580\n",
      "250/250 [==============================] - 2447s 10s/step - loss: 0.0138 - accuracy: 0.9994 - val_loss: 0.1534 - val_accuracy: 0.9475\n"
     ]
    }
   ],
   "source": [
    "hist_10k = model_.fit(x=train_data_10k,\n",
    "                      epochs=num_epochs,\n",
    "                      validation_data=val_data_10k,\n",
    "                      validation_freq=1,\n",
    "                      steps_per_epoch=len(X_train_10k)/BATCH_SIZE,\n",
    "                      callbacks=[checkpointer],\n",
    "                      verbose=1)"
   ]
  },
  {
   "cell_type": "code",
   "execution_count": 367,
   "metadata": {},
   "outputs": [
    {
     "name": "stdout",
     "output_type": "stream",
     "text": [
      "Сохранение модели в: C:\\Users\\User\\Jupiter\\Gender_detetion\\internship_data\\models\\08-09-2020_14-52-49_10000_img.h5...\n"
     ]
    },
    {
     "data": {
      "text/plain": [
       "'C:\\\\Users\\\\User\\\\Jupiter\\\\Gender_detetion\\\\internship_data\\\\models\\\\08-09-2020_14-52-49_10000_img.h5'"
      ]
     },
     "execution_count": 367,
     "metadata": {},
     "output_type": "execute_result"
    }
   ],
   "source": [
    "# save_model(model_, suffix='10000_img')"
   ]
  },
  {
   "cell_type": "code",
   "execution_count": null,
   "metadata": {},
   "outputs": [],
   "source": []
  },
  {
   "cell_type": "markdown",
   "metadata": {},
   "source": [
    "**Теперь можно посмотреть функцию потерь и точность прогноза на тренировочной и валидирующей выборке**"
   ]
  },
  {
   "cell_type": "code",
   "execution_count": 368,
   "metadata": {},
   "outputs": [
    {
     "data": {
      "image/png": "[encoded data removed]",
      "text/plain": [
       "<Figure size 1296x288 with 1 Axes>"
      ]
     },
     "metadata": {
      "needs_background": "light"
     },
     "output_type": "display_data"
    }
   ],
   "source": [
    "# Функция потерь \n",
    "\n",
    "plt.figure(figsize=(18,4))\n",
    "plt.plot(hist_10k.history['loss'], label='train')\n",
    "plt.plot(hist_10k.history['val_loss'], label='validation')\n",
    "plt.legend()\n",
    "plt.title('loss function')\n",
    "plt.show()"
   ]
  },
  {
   "cell_type": "code",
   "execution_count": 369,
   "metadata": {},
   "outputs": [
    {
     "data": {
      "image/png": "[encoded data removed]",
      "text/plain": [
       "<Figure size 1296x288 with 1 Axes>"
      ]
     },
     "metadata": {
      "needs_background": "light"
     },
     "output_type": "display_data"
    }
   ],
   "source": [
    "# График accuracy по эпохам\n",
    "plt.figure(figsize=(18, 4))\n",
    "plt.plot(hist_10k.history['accuracy'], label = 'train')\n",
    "plt.plot(hist_10k.history['val_accuracy'], label = 'valid')\n",
    "plt.legend()\n",
    "plt.title('Accuracy')\n",
    "plt.show()"
   ]
  },
  {
   "cell_type": "markdown",
   "metadata": {},
   "source": [
    "Функция потерь и точность макимальны после обучения третьей эпохи, поэтому функция callback сохранила именно эти веса."
   ]
  },
  {
   "cell_type": "markdown",
   "metadata": {},
   "source": [
    "### 8.1 Проверим точность модели (обученной на 10к изображений) на тестовой выборке"
   ]
  },
  {
   "cell_type": "markdown",
   "metadata": {},
   "source": [
    "**Загрузим модель**"
   ]
  },
  {
   "cell_type": "code",
   "execution_count": 35,
   "metadata": {},
   "outputs": [],
   "source": [
    "model_10k_path =r'C:\\\\Users\\\\User\\\\Jupiter\\\\Gender_detetion\\\\internship_data\\\\models\\\\08-09-2020_14-52-49_10000_img.h5'"
   ]
  },
  {
   "cell_type": "code",
   "execution_count": 36,
   "metadata": {},
   "outputs": [],
   "source": [
    "model_10k = tf.keras.models.load_model(model_10k_path)"
   ]
  },
  {
   "cell_type": "markdown",
   "metadata": {},
   "source": [
    "**Сделаем прогноз**"
   ]
  },
  {
   "cell_type": "code",
   "execution_count": 61,
   "metadata": {},
   "outputs": [
    {
     "name": "stdout",
     "output_type": "stream",
     "text": [
      "63/63 [==============================] - 193s 3s/step\n"
     ]
    }
   ],
   "source": [
    "predictions = model_10k.predict(test_data_10k, verbose=1)"
   ]
  },
  {
   "cell_type": "code",
   "execution_count": 39,
   "metadata": {},
   "outputs": [
    {
     "data": {
      "text/plain": [
       "array([[5.6635891e-03, 9.9433643e-01],\n",
       "       [7.7743542e-01, 2.2256459e-01],\n",
       "       [9.7697790e-05, 9.9990225e-01],\n",
       "       [9.9990606e-01, 9.3881419e-05],\n",
       "       [4.5357960e-01, 5.4642034e-01],\n",
       "       [1.4367682e-02, 9.8563230e-01],\n",
       "       [1.6071797e-04, 9.9983931e-01],\n",
       "       [6.9595662e-05, 9.9993038e-01],\n",
       "       [7.8139637e-05, 9.9992180e-01],\n",
       "       [9.9819034e-01, 1.8096201e-03]], dtype=float32)"
      ]
     },
     "execution_count": 39,
     "metadata": {},
     "output_type": "execute_result"
    }
   ],
   "source": [
    "#Проверим результат(результат выводится в виде массива вероятностей принадлежности изображения к каждому классу)\n",
    "predictions[:10]"
   ]
  },
  {
   "cell_type": "markdown",
   "metadata": {},
   "source": [
    "**Конвертируем наш прогноз в классификацию (0 и 1)**"
   ]
  },
  {
   "cell_type": "code",
   "execution_count": 62,
   "metadata": {},
   "outputs": [
    {
     "data": {
      "text/plain": [
       "array([[0, 1],\n",
       "       [1, 0],\n",
       "       [0, 1],\n",
       "       [1, 0],\n",
       "       [0, 1],\n",
       "       [0, 1],\n",
       "       [0, 1],\n",
       "       [0, 1],\n",
       "       [0, 1],\n",
       "       [1, 0]])"
      ]
     },
     "execution_count": 62,
     "metadata": {},
     "output_type": "execute_result"
    }
   ],
   "source": [
    "pred_np = np.round(predictions, 0).astype(int)\n",
    "pred_np[:10]"
   ]
  },
  {
   "cell_type": "markdown",
   "metadata": {},
   "source": [
    "**Посмотрим как выглядят тестовая выборка**"
   ]
  },
  {
   "cell_type": "code",
   "execution_count": 45,
   "metadata": {},
   "outputs": [
    {
     "data": {
      "text/plain": [
       "[array([False,  True]),\n",
       " array([ True, False]),\n",
       " array([False,  True]),\n",
       " array([ True, False]),\n",
       " array([False,  True]),\n",
       " array([False,  True]),\n",
       " array([False,  True]),\n",
       " array([False,  True]),\n",
       " array([False,  True]),\n",
       " array([ True, False])]"
      ]
     },
     "execution_count": 45,
     "metadata": {},
     "output_type": "execute_result"
    }
   ],
   "source": [
    "y_test_10k[:10]"
   ]
  },
  {
   "cell_type": "markdown",
   "metadata": {},
   "source": [
    "**Преобразуем в массив numpy**"
   ]
  },
  {
   "cell_type": "code",
   "execution_count": 63,
   "metadata": {},
   "outputs": [
    {
     "data": {
      "text/plain": [
       "array([[0, 1],\n",
       "       [1, 0],\n",
       "       [0, 1],\n",
       "       [1, 0],\n",
       "       [0, 1],\n",
       "       [0, 1],\n",
       "       [0, 1],\n",
       "       [0, 1],\n",
       "       [0, 1],\n",
       "       [1, 0]])"
      ]
     },
     "execution_count": 63,
     "metadata": {},
     "output_type": "execute_result"
    }
   ],
   "source": [
    "y_test_10k_np = np.array(y_test_10k).astype(int)\n",
    "y_test_10k_np[:10]"
   ]
  },
  {
   "cell_type": "markdown",
   "metadata": {},
   "source": [
    "**Оценим точность модели**"
   ]
  },
  {
   "cell_type": "code",
   "execution_count": 72,
   "metadata": {},
   "outputs": [
    {
     "name": "stdout",
     "output_type": "stream",
     "text": [
      "Точность модели на тестовой выборке: 94.55\n"
     ]
    }
   ],
   "source": [
    "evaluation = pred_np == y_test_10k_np\n",
    "accuracy = (np.sum(evaluation.astype(int))/2)/len(y_test_10k)*100\n",
    "print(\"Точность модели на тестовой выборке:\", accuracy)"
   ]
  },
  {
   "cell_type": "markdown",
   "metadata": {},
   "source": [
    "**Отлично! Точность модели на тренировочной выборке не сильно уступает точности на валидирующей выборке (94,65 %), значит мы не переобучили модель**"
   ]
  }
 ],
 "metadata": {
  "kernelspec": {
   "display_name": "Python 3",
   "language": "python",
   "name": "python3"
  },
  "language_info": {
   "codemirror_mode": {
    "name": "ipython",
    "version": 3
   },
   "file_extension": ".py",
   "mimetype": "text/x-python",
   "name": "python",
   "nbconvert_exporter": "python",
   "pygments_lexer": "ipython3",
   "version": "3.7.6"
  }
 },
 "nbformat": 4,
 "nbformat_minor": 4
}
